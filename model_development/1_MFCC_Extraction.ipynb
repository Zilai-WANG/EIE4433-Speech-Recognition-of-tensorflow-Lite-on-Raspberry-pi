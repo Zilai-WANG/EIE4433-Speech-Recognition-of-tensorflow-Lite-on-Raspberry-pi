{
 "cells": [
  {
   "cell_type": "code",
   "execution_count": 1,
   "metadata": {},
   "outputs": [],
   "source": [
    "from os import listdir\n",
    "from os.path import isdir, join\n",
    "import librosa\n",
    "import random\n",
    "import numpy as np\n",
    "import matplotlib.pyplot as plt\n",
    "import python_speech_features"
   ]
  },
  {
   "cell_type": "code",
   "execution_count": 2,
   "metadata": {},
   "outputs": [
    {
     "name": "stdout",
     "output_type": "stream",
     "text": [
      "0_Scream\n",
      "1_Help_array\n",
      "2_other_classes\n"
     ]
    }
   ],
   "source": [
    "\n",
    "dataset_path = 'C:\\\\Users\\\\19080\\\\Downloads\\\\Compressed\\\\fyp_data'\n",
    "for name in listdir(dataset_path):\n",
    "    if isdir(join(dataset_path, name)):\n",
    "        print(name)"
   ]
  },
  {
   "cell_type": "code",
   "execution_count": 3,
   "metadata": {},
   "outputs": [
    {
     "name": "stdout",
     "output_type": "stream",
     "text": [
      "['0_Scream', '1_Help_array', '2_other_classes']\n"
     ]
    }
   ],
   "source": [
    "# Create an all targets list\n",
    "all_targets = [name for name in listdir(dataset_path) if isdir(join(dataset_path, name))]\n",
    "print(all_targets)"
   ]
  },
  {
   "cell_type": "code",
   "execution_count": 4,
   "metadata": {},
   "outputs": [
    {
     "name": "stdout",
     "output_type": "stream",
     "text": [
      "['0_Scream', '1_Help_array', '2_other_classes']\n"
     ]
    }
   ],
   "source": [
    "# Leave off background noise set\n",
    "#all_targets.remove('0_Scream_IC')\n",
    "\n",
    "\n",
    "#all_targets.remove('Help_IC')\n",
    "#all_targets.remove('2_others')\n",
    "\n",
    "print(all_targets)"
   ]
  },
  {
   "cell_type": "code",
   "execution_count": 5,
   "metadata": {},
   "outputs": [
    {
     "name": "stdout",
     "output_type": "stream",
     "text": [
      "313\n",
      "310\n",
      "1238\n",
      "Total samples: 1861\n"
     ]
    }
   ],
   "source": [
    "# See how many files are in each\n",
    "num_samples = 0\n",
    "for target in all_targets:\n",
    "    print(len(listdir(join(dataset_path, target))))\n",
    "    num_samples += len(listdir(join(dataset_path, target)))\n",
    "print('Total samples:', num_samples)"
   ]
  },
  {
   "cell_type": "code",
   "execution_count": 6,
   "metadata": {},
   "outputs": [],
   "source": [
    "# Settings\n",
    "target_list = all_targets\n",
    "feature_sets_file = 'all_targets_mfcc_sets.npz'\n",
    "perc_keep_samples = 1 # 1.0 is keep all samples\n",
    "val_ratio = 0.2\n",
    "test_ratio = 0.1\n",
    "#val_ratio = 0.1\n",
    "#test_ratio = 0.1\n",
    "sample_rate = 8000\n",
    "num_mfcc = 16\n",
    "len_mfcc = 98"
   ]
  },
  {
   "cell_type": "code",
   "execution_count": 7,
   "metadata": {},
   "outputs": [
    {
     "name": "stdout",
     "output_type": "stream",
     "text": [
      "C:\\Users\\19080\\Downloads\\Compressed\\fyp_data\\0_Scream\n",
      "C:\\Users\\19080\\Downloads\\Compressed\\fyp_data\\1_Help_array\n",
      "C:\\Users\\19080\\Downloads\\Compressed\\fyp_data\\2_other_classes\n"
     ]
    }
   ],
   "source": [
    "# Create list of filenames along with ground truth vector (y)\n",
    "filenames = []\n",
    "y = []\n",
    "for index, target in enumerate(target_list):\n",
    "    print(join(dataset_path, target))\n",
    "    filenames.append(listdir(join(dataset_path, target)))\n",
    "    y.append(np.ones(len(filenames[index])) * index)"
   ]
  },
  {
   "cell_type": "code",
   "execution_count": 8,
   "metadata": {},
   "outputs": [
    {
     "name": "stdout",
     "output_type": "stream",
     "text": [
      "[array([0., 0., 0., 0., 0., 0., 0., 0., 0., 0., 0., 0., 0., 0., 0., 0., 0.,\n",
      "       0., 0., 0., 0., 0., 0., 0., 0., 0., 0., 0., 0., 0., 0., 0., 0., 0.,\n",
      "       0., 0., 0., 0., 0., 0., 0., 0., 0., 0., 0., 0., 0., 0., 0., 0., 0.,\n",
      "       0., 0., 0., 0., 0., 0., 0., 0., 0., 0., 0., 0., 0., 0., 0., 0., 0.,\n",
      "       0., 0., 0., 0., 0., 0., 0., 0., 0., 0., 0., 0., 0., 0., 0., 0., 0.,\n",
      "       0., 0., 0., 0., 0., 0., 0., 0., 0., 0., 0., 0., 0., 0., 0., 0., 0.,\n",
      "       0., 0., 0., 0., 0., 0., 0., 0., 0., 0., 0., 0., 0., 0., 0., 0., 0.,\n",
      "       0., 0., 0., 0., 0., 0., 0., 0., 0., 0., 0., 0., 0., 0., 0., 0., 0.,\n",
      "       0., 0., 0., 0., 0., 0., 0., 0., 0., 0., 0., 0., 0., 0., 0., 0., 0.,\n",
      "       0., 0., 0., 0., 0., 0., 0., 0., 0., 0., 0., 0., 0., 0., 0., 0., 0.,\n",
      "       0., 0., 0., 0., 0., 0., 0., 0., 0., 0., 0., 0., 0., 0., 0., 0., 0.,\n",
      "       0., 0., 0., 0., 0., 0., 0., 0., 0., 0., 0., 0., 0., 0., 0., 0., 0.,\n",
      "       0., 0., 0., 0., 0., 0., 0., 0., 0., 0., 0., 0., 0., 0., 0., 0., 0.,\n",
      "       0., 0., 0., 0., 0., 0., 0., 0., 0., 0., 0., 0., 0., 0., 0., 0., 0.,\n",
      "       0., 0., 0., 0., 0., 0., 0., 0., 0., 0., 0., 0., 0., 0., 0., 0., 0.,\n",
      "       0., 0., 0., 0., 0., 0., 0., 0., 0., 0., 0., 0., 0., 0., 0., 0., 0.,\n",
      "       0., 0., 0., 0., 0., 0., 0., 0., 0., 0., 0., 0., 0., 0., 0., 0., 0.,\n",
      "       0., 0., 0., 0., 0., 0., 0., 0., 0., 0., 0., 0., 0., 0., 0., 0., 0.,\n",
      "       0., 0., 0., 0., 0., 0., 0.]), array([1., 1., 1., 1., 1., 1., 1., 1., 1., 1., 1., 1., 1., 1., 1., 1., 1.,\n",
      "       1., 1., 1., 1., 1., 1., 1., 1., 1., 1., 1., 1., 1., 1., 1., 1., 1.,\n",
      "       1., 1., 1., 1., 1., 1., 1., 1., 1., 1., 1., 1., 1., 1., 1., 1., 1.,\n",
      "       1., 1., 1., 1., 1., 1., 1., 1., 1., 1., 1., 1., 1., 1., 1., 1., 1.,\n",
      "       1., 1., 1., 1., 1., 1., 1., 1., 1., 1., 1., 1., 1., 1., 1., 1., 1.,\n",
      "       1., 1., 1., 1., 1., 1., 1., 1., 1., 1., 1., 1., 1., 1., 1., 1., 1.,\n",
      "       1., 1., 1., 1., 1., 1., 1., 1., 1., 1., 1., 1., 1., 1., 1., 1., 1.,\n",
      "       1., 1., 1., 1., 1., 1., 1., 1., 1., 1., 1., 1., 1., 1., 1., 1., 1.,\n",
      "       1., 1., 1., 1., 1., 1., 1., 1., 1., 1., 1., 1., 1., 1., 1., 1., 1.,\n",
      "       1., 1., 1., 1., 1., 1., 1., 1., 1., 1., 1., 1., 1., 1., 1., 1., 1.,\n",
      "       1., 1., 1., 1., 1., 1., 1., 1., 1., 1., 1., 1., 1., 1., 1., 1., 1.,\n",
      "       1., 1., 1., 1., 1., 1., 1., 1., 1., 1., 1., 1., 1., 1., 1., 1., 1.,\n",
      "       1., 1., 1., 1., 1., 1., 1., 1., 1., 1., 1., 1., 1., 1., 1., 1., 1.,\n",
      "       1., 1., 1., 1., 1., 1., 1., 1., 1., 1., 1., 1., 1., 1., 1., 1., 1.,\n",
      "       1., 1., 1., 1., 1., 1., 1., 1., 1., 1., 1., 1., 1., 1., 1., 1., 1.,\n",
      "       1., 1., 1., 1., 1., 1., 1., 1., 1., 1., 1., 1., 1., 1., 1., 1., 1.,\n",
      "       1., 1., 1., 1., 1., 1., 1., 1., 1., 1., 1., 1., 1., 1., 1., 1., 1.,\n",
      "       1., 1., 1., 1., 1., 1., 1., 1., 1., 1., 1., 1., 1., 1., 1., 1., 1.,\n",
      "       1., 1., 1., 1.]), array([2., 2., 2., ..., 2., 2., 2.])]\n",
      "313\n",
      "310\n",
      "1238\n"
     ]
    }
   ],
   "source": [
    "# Check ground truth Y vector\n",
    "print(y)\n",
    "for item in y:\n",
    "    print(len(item))"
   ]
  },
  {
   "cell_type": "code",
   "execution_count": 9,
   "metadata": {},
   "outputs": [],
   "source": [
    "# Flatten filename and y vectors\n",
    "filenames = [item for sublist in filenames for item in sublist]\n",
    "y = [item for sublist in y for item in sublist]"
   ]
  },
  {
   "cell_type": "code",
   "execution_count": 10,
   "metadata": {},
   "outputs": [],
   "source": [
    "# Associate filenames with true output and shuffle\n",
    "filenames_y = list(zip(filenames, y))\n",
    "random.shuffle(filenames_y)\n",
    "filenames, y = zip(*filenames_y)"
   ]
  },
  {
   "cell_type": "code",
   "execution_count": 11,
   "metadata": {},
   "outputs": [
    {
     "name": "stdout",
     "output_type": "stream",
     "text": [
      "1861\n",
      "1861\n"
     ]
    }
   ],
   "source": [
    "# Only keep the specified number of samples (shorter extraction/training)\n",
    "print(len(filenames))\n",
    "filenames = filenames[:int(len(filenames) * perc_keep_samples)]\n",
    "print(len(filenames))"
   ]
  },
  {
   "cell_type": "code",
   "execution_count": 12,
   "metadata": {},
   "outputs": [],
   "source": [
    "# Calculate validation and test set sizes\n",
    "val_set_size = int(len(filenames) * val_ratio)\n",
    "test_set_size = int(len(filenames) * test_ratio)"
   ]
  },
  {
   "cell_type": "code",
   "execution_count": 13,
   "metadata": {},
   "outputs": [],
   "source": [
    "# Break dataset apart into train, validation, and test sets\n",
    "filenames_val = filenames[:val_set_size]\n",
    "filenames_test = filenames[val_set_size:(val_set_size + test_set_size)]\n",
    "filenames_train = filenames[(val_set_size + test_set_size):]"
   ]
  },
  {
   "cell_type": "code",
   "execution_count": 14,
   "metadata": {},
   "outputs": [],
   "source": [
    "# Break y apart into train, validation, and test sets\n",
    "y_orig_val = y[:val_set_size]\n",
    "y_orig_test = y[val_set_size:(val_set_size + test_set_size)]\n",
    "y_orig_train = y[(val_set_size + test_set_size):]"
   ]
  },
  {
   "cell_type": "code",
   "execution_count": 15,
   "metadata": {},
   "outputs": [],
   "source": [
    "# Function: Create MFCC from given path\n",
    "def calc_mfcc(path):\n",
    "    \n",
    "    # Load wavefile\n",
    "    signal, fs = librosa.load(path, sr=sample_rate)\n",
    "    \n",
    "    # Create MFCCs from sound clip\n",
    "    mfccs = python_speech_features.base.mfcc(signal, \n",
    "                                            samplerate=fs,\n",
    "                                            #winlen=0.256,# 32ms\n",
    "                                            winlen=0.032,# 32ms\n",
    "                                            winstep=0.010, # 10 ms\n",
    "                                            numcep=num_mfcc,\n",
    "                                            nfilt=26,\n",
    "                                            nfft=512,# 2048 origina;\n",
    "                                            preemph=0.98,#0.98\n",
    "                                            ceplifter=0,# robust to noise\n",
    "                                            appendEnergy=False,\n",
    "                                            winfunc=np.hanning)\n",
    "    return mfccs.transpose()"
   ]
  },
  {
   "cell_type": "code",
   "execution_count": 16,
   "metadata": {},
   "outputs": [
    {
     "name": "stdout",
     "output_type": "stream",
     "text": [
      "Dropped: 9 (16, 96)\n",
      "Dropped: 22 (16, 82)\n",
      "Dropped: 38 (16, 91)\n",
      "Dropped: 41 (16, 84)\n",
      "Dropped: 42 (16, 74)\n",
      "Dropped: 50 (16, 82)\n",
      "Dropped: 57 (16, 92)\n",
      "Dropped: 59 (16, 82)\n",
      "Dropped: 60 (16, 59)\n",
      "Dropped: 65 (16, 91)\n",
      "Dropped: 94 (16, 82)\n",
      "Dropped: 108 (16, 91)\n",
      "Dropped: 110 (16, 75)\n",
      "Dropped: 116 (16, 64)\n",
      "Dropped: 147 (16, 91)\n",
      "Dropped: 154 (16, 96)\n",
      "Dropped: 179 (16, 54)\n",
      "Dropped: 203 (16, 77)\n",
      "Dropped: 220 (16, 92)\n",
      "Dropped: 222 (16, 74)\n",
      "Dropped: 231 (16, 96)\n",
      "Dropped: 234 (16, 75)\n",
      "Dropped: 250 (16, 58)\n",
      "Dropped: 264 (16, 54)\n",
      "Dropped: 283 (16, 82)\n",
      "Dropped: 312 (16, 84)\n",
      "Dropped: 314 (16, 79)\n",
      "Dropped: 319 (16, 87)\n",
      "Dropped: 321 (16, 82)\n",
      "Dropped: 322 (16, 67)\n",
      "Dropped: 336 (16, 82)\n",
      "Dropped: 347 (16, 84)\n",
      "Dropped: 351 (16, 79)\n",
      "Dropped: 356 (16, 74)\n",
      "Dropped: 377 (16, 91)\n",
      "Dropped: 378 (16, 74)\n",
      "Dropped: 380 (16, 88)\n",
      "Dropped: 392 (16, 92)\n",
      "Dropped: 399 (16, 82)\n",
      "Dropped: 401 (16, 91)\n",
      "Dropped: 423 (16, 92)\n",
      "Dropped: 461 (16, 62)\n",
      "Dropped: 462 (16, 91)\n",
      "Dropped: 473 (16, 96)\n",
      "Dropped: 477 (16, 68)\n",
      "Dropped: 496 (16, 31)\n"
     ]
    }
   ],
   "source": [
    "# TEST: Construct test set by computing MFCC of each WAV file\n",
    "prob_cnt = 0\n",
    "x_test = []\n",
    "y_test = []\n",
    "for index, filename in enumerate(filenames_train):\n",
    "    \n",
    "    # Stop after 500\n",
    "    if index >= 500:\n",
    "        break\n",
    "    \n",
    "    # Create path from given filename and target item\n",
    "    path = join(dataset_path, target_list[int(y_orig_train[index])], \n",
    "                filename)\n",
    "    \n",
    "    # Create MFCCs\n",
    "    mfccs = calc_mfcc(path)\n",
    "    \n",
    "    if mfccs.shape[1] == len_mfcc:\n",
    "        x_test.append(mfccs)\n",
    "        y_test.append(y_orig_train[index])\n",
    "    else:\n",
    "        print('Dropped:', index, mfccs.shape)\n",
    "        prob_cnt += 1\n",
    "        "
   ]
  },
  {
   "cell_type": "code",
   "execution_count": 17,
   "metadata": {},
   "outputs": [
    {
     "name": "stdout",
     "output_type": "stream",
     "text": [
      "% of problematic samples: 0.024717893605588393\n"
     ]
    }
   ],
   "source": [
    "print('% of problematic samples:', prob_cnt / len(filenames))"
   ]
  },
  {
   "cell_type": "code",
   "execution_count": 18,
   "metadata": {},
   "outputs": [
    {
     "name": "stdout",
     "output_type": "stream",
     "text": [
      "MFCCs: [[-6.93894239e+01 -6.86612283e+01 -6.68855312e+01 ... -6.63429644e+01\n",
      "  -6.73325045e+01 -6.76127448e+01]\n",
      " [-6.93755371e+00 -7.16344252e+00 -5.55548893e+00 ... -4.72231436e+00\n",
      "  -5.14355908e+00 -4.47229287e+00]\n",
      " [-6.71365806e+00 -6.58548185e+00 -6.04538317e+00 ... -4.53704115e+00\n",
      "  -6.08299898e+00 -6.44797797e+00]\n",
      " ...\n",
      " [-8.06116508e-02 -7.76631886e-01 -4.39347877e-01 ... -8.08931084e-01\n",
      "  -3.19540250e-01 -3.43785548e-02]\n",
      " [-6.44131173e-01 -6.13978115e-01 -7.99512918e-01 ... -9.49746766e-01\n",
      "  -1.56428234e+00 -8.38161939e-01]\n",
      " [-1.97980645e-01  6.80166503e-02 -2.75400019e-02 ... -4.41379177e-01\n",
      "  -3.86012756e-01 -7.19399063e-01]]\n",
      "2_other_classes\n"
     ]
    },
    {
     "data": {
      "image/png": "[encoded data removed]",
      "text/plain": [
       "<Figure size 432x288 with 1 Axes>"
      ]
     },
     "metadata": {
      "needs_background": "light"
     },
     "output_type": "display_data"
    }
   ],
   "source": [
    "# TEST: Test shorter MFCC\n",
    "# !pip install playsound\n",
    "from playsound import playsound\n",
    "\n",
    "#idx = 13\n",
    "idx = 5\n",
    "\n",
    "# Create path from given filename and target item\n",
    "path = join(dataset_path, target_list[int(y_orig_train[idx])], \n",
    "            filenames_train[idx])\n",
    "\n",
    "# Create MFCCs\n",
    "mfccs = calc_mfcc(path)\n",
    "print(\"MFCCs:\", mfccs)\n",
    "\n",
    "# Plot MFCC\n",
    "fig = plt.figure()\n",
    "plt.imshow(mfccs, cmap='inferno', origin='lower')\n",
    "\n",
    "# TEST: Play problem sounds\n",
    "print(target_list[int(y_orig_train[idx])])\n",
    "playsound(path)"
   ]
  },
  {
   "cell_type": "code",
   "execution_count": 19,
   "metadata": {},
   "outputs": [],
   "source": [
    "# Function: Create MFCCs, keeping only ones of desired length\n",
    "def extract_features(in_files, in_y):\n",
    "    prob_cnt = 0\n",
    "    out_x = []\n",
    "    out_y = []\n",
    "        \n",
    "    for index, filename in enumerate(in_files):\n",
    "    \n",
    "        # Create path from given filename and target item\n",
    "        path = join(dataset_path, target_list[int(in_y[index])], \n",
    "                    filename)\n",
    "        \n",
    "        # Check to make sure we're reading a .wav file\n",
    "        if not path.endswith('.wav'):\n",
    "            continue\n",
    "\n",
    "        # Create MFCCs\n",
    "        mfccs = calc_mfcc(path)\n",
    "\n",
    "        # Only keep MFCCs with given length\n",
    "        if mfccs.shape[1] == len_mfcc:\n",
    "            out_x.append(mfccs)\n",
    "            out_y.append(in_y[index])\n",
    "        else:\n",
    "            print('Dropped:', index, mfccs.shape)\n",
    "            prob_cnt += 1\n",
    "            \n",
    "    return out_x, out_y, prob_cnt"
   ]
  },
  {
   "cell_type": "code",
   "execution_count": 20,
   "metadata": {},
   "outputs": [
    {
     "name": "stdout",
     "output_type": "stream",
     "text": [
      "Dropped: 9 (16, 96)\n",
      "Dropped: 22 (16, 82)\n",
      "Dropped: 38 (16, 91)\n",
      "Dropped: 41 (16, 84)\n",
      "Dropped: 42 (16, 74)\n",
      "Dropped: 50 (16, 82)\n",
      "Dropped: 57 (16, 92)\n",
      "Dropped: 59 (16, 82)\n",
      "Dropped: 60 (16, 59)\n",
      "Dropped: 65 (16, 91)\n",
      "Dropped: 94 (16, 82)\n",
      "Dropped: 108 (16, 91)\n",
      "Dropped: 110 (16, 75)\n",
      "Dropped: 116 (16, 64)\n",
      "Dropped: 147 (16, 91)\n",
      "Dropped: 154 (16, 96)\n",
      "Dropped: 179 (16, 54)\n",
      "Dropped: 203 (16, 77)\n",
      "Dropped: 220 (16, 92)\n",
      "Dropped: 222 (16, 74)\n",
      "Dropped: 231 (16, 96)\n",
      "Dropped: 234 (16, 75)\n",
      "Dropped: 250 (16, 58)\n",
      "Dropped: 264 (16, 54)\n",
      "Dropped: 283 (16, 82)\n",
      "Dropped: 312 (16, 84)\n",
      "Dropped: 314 (16, 79)\n",
      "Dropped: 319 (16, 87)\n",
      "Dropped: 321 (16, 82)\n",
      "Dropped: 322 (16, 67)\n",
      "Dropped: 336 (16, 82)\n",
      "Dropped: 347 (16, 84)\n",
      "Dropped: 351 (16, 79)\n",
      "Dropped: 356 (16, 74)\n",
      "Dropped: 377 (16, 91)\n",
      "Dropped: 378 (16, 74)\n",
      "Dropped: 380 (16, 88)\n",
      "Dropped: 392 (16, 92)\n",
      "Dropped: 399 (16, 82)\n",
      "Dropped: 401 (16, 91)\n",
      "Dropped: 423 (16, 92)\n",
      "Dropped: 461 (16, 62)\n",
      "Dropped: 462 (16, 91)\n",
      "Dropped: 473 (16, 96)\n",
      "Dropped: 477 (16, 68)\n",
      "Dropped: 496 (16, 31)\n",
      "Dropped: 506 (16, 71)\n",
      "Dropped: 514 (16, 73)\n",
      "Dropped: 529 (16, 92)\n",
      "Dropped: 538 (16, 92)\n",
      "Dropped: 551 (16, 88)\n",
      "Dropped: 552 (16, 92)\n",
      "Dropped: 559 (16, 79)\n",
      "Dropped: 568 (16, 75)\n",
      "Dropped: 570 (16, 91)\n",
      "Dropped: 592 (16, 77)\n",
      "Dropped: 598 (16, 67)\n",
      "Dropped: 612 (16, 67)\n",
      "Dropped: 627 (16, 82)\n",
      "Dropped: 664 (16, 90)\n",
      "Dropped: 681 (16, 96)\n",
      "Dropped: 687 (16, 91)\n",
      "Dropped: 689 (16, 45)\n",
      "Dropped: 707 (16, 54)\n",
      "Dropped: 710 (16, 75)\n",
      "Dropped: 712 (16, 73)\n",
      "Dropped: 729 (16, 96)\n",
      "Dropped: 747 (16, 45)\n",
      "Dropped: 749 (16, 96)\n",
      "Dropped: 769 (16, 92)\n",
      "Dropped: 774 (16, 74)\n",
      "Dropped: 777 (16, 68)\n",
      "Dropped: 783 (16, 92)\n",
      "Dropped: 789 (16, 84)\n",
      "Dropped: 807 (16, 82)\n",
      "Dropped: 813 (16, 96)\n",
      "Dropped: 821 (16, 67)\n",
      "Dropped: 823 (16, 84)\n",
      "Dropped: 836 (16, 54)\n",
      "Dropped: 846 (16, 88)\n",
      "Dropped: 866 (16, 87)\n",
      "Dropped: 913 (16, 79)\n",
      "Dropped: 941 (16, 92)\n",
      "Dropped: 962 (16, 77)\n",
      "Dropped: 969 (16, 92)\n",
      "Dropped: 980 (16, 96)\n",
      "Dropped: 989 (16, 68)\n",
      "Dropped: 1008 (16, 37)\n",
      "Dropped: 1013 (16, 75)\n",
      "Dropped: 1033 (16, 96)\n",
      "Dropped: 1034 (16, 79)\n",
      "Dropped: 1043 (16, 82)\n",
      "Dropped: 1044 (16, 71)\n",
      "Dropped: 1064 (16, 75)\n",
      "Dropped: 1065 (16, 96)\n",
      "Dropped: 1069 (16, 87)\n",
      "Dropped: 1082 (16, 63)\n",
      "Dropped: 1100 (16, 54)\n",
      "Dropped: 1101 (16, 74)\n",
      "Dropped: 1116 (16, 49)\n",
      "Dropped: 1127 (16, 45)\n",
      "Dropped: 1129 (16, 71)\n",
      "Dropped: 1143 (16, 84)\n",
      "Dropped: 1158 (16, 67)\n",
      "Dropped: 1162 (16, 62)\n",
      "Dropped: 1211 (16, 74)\n",
      "Dropped: 1230 (16, 58)\n",
      "Dropped: 1238 (16, 84)\n",
      "Dropped: 1247 (16, 96)\n",
      "Dropped: 1250 (16, 54)\n",
      "Dropped: 1268 (16, 96)\n",
      "Dropped: 1274 (16, 79)\n",
      "Dropped: 1285 (16, 54)\n",
      "Removed percentage: 0.08672294704528012\n",
      "Dropped: 1 (16, 79)\n",
      "Dropped: 23 (16, 74)\n",
      "Dropped: 34 (16, 91)\n",
      "Dropped: 42 (16, 87)\n",
      "Dropped: 47 (16, 75)\n",
      "Dropped: 78 (16, 73)\n",
      "Dropped: 80 (16, 74)\n",
      "Dropped: 82 (16, 96)\n",
      "Dropped: 89 (16, 92)\n",
      "Dropped: 106 (16, 59)\n",
      "Dropped: 112 (16, 67)\n",
      "Dropped: 120 (16, 82)\n",
      "Dropped: 153 (16, 71)\n",
      "Dropped: 213 (16, 92)\n",
      "Dropped: 218 (16, 62)\n",
      "Dropped: 245 (16, 84)\n",
      "Dropped: 260 (16, 62)\n",
      "Dropped: 264 (16, 45)\n",
      "Dropped: 281 (16, 96)\n",
      "Dropped: 285 (16, 75)\n",
      "Dropped: 286 (16, 59)\n",
      "Dropped: 287 (16, 89)\n",
      "Dropped: 321 (16, 62)\n",
      "Dropped: 353 (16, 72)\n",
      "Dropped: 354 (16, 62)\n",
      "Removed percentage: 0.06720430107526881\n",
      "Dropped: 0 (16, 73)\n",
      "Dropped: 4 (16, 79)\n",
      "Dropped: 14 (16, 88)\n",
      "Dropped: 23 (16, 96)\n",
      "Dropped: 24 (16, 71)\n",
      "Dropped: 26 (16, 96)\n",
      "Dropped: 36 (16, 58)\n",
      "Dropped: 42 (16, 88)\n",
      "Dropped: 44 (16, 79)\n",
      "Dropped: 54 (16, 96)\n",
      "Dropped: 56 (16, 73)\n",
      "Dropped: 59 (16, 92)\n",
      "Dropped: 61 (16, 88)\n",
      "Dropped: 85 (16, 75)\n",
      "Dropped: 88 (16, 61)\n",
      "Dropped: 100 (16, 71)\n",
      "Dropped: 107 (16, 96)\n",
      "Dropped: 112 (16, 88)\n",
      "Dropped: 114 (16, 84)\n",
      "Dropped: 132 (16, 45)\n",
      "Dropped: 138 (16, 91)\n",
      "Dropped: 140 (16, 71)\n",
      "Dropped: 146 (16, 58)\n",
      "Dropped: 163 (16, 75)\n",
      "Dropped: 166 (16, 77)\n",
      "Removed percentage: 0.13440860215053763\n"
     ]
    }
   ],
   "source": [
    "# Create train, validation, and test sets\n",
    "x_train, y_train, prob = extract_features(filenames_train, \n",
    "                                          y_orig_train)\n",
    "print('Removed percentage:', prob / len(y_orig_train))\n",
    "x_val, y_val, prob = extract_features(filenames_val, y_orig_val)\n",
    "print('Removed percentage:', prob / len(y_orig_val))\n",
    "x_test, y_test, prob = extract_features(filenames_test, y_orig_test)\n",
    "print('Removed percentage:', prob / len(y_orig_test))"
   ]
  },
  {
   "cell_type": "code",
   "execution_count": 21,
   "metadata": {},
   "outputs": [],
   "source": [
    "# Save features and truth vector (y) sets to disk\n",
    "np.savez(feature_sets_file, \n",
    "         x_train=x_train, \n",
    "         y_train=y_train, \n",
    "         x_val=x_val, \n",
    "         y_val=y_val, \n",
    "         x_test=x_test, \n",
    "         y_test=y_test)"
   ]
  },
  {
   "cell_type": "code",
   "execution_count": 22,
   "metadata": {},
   "outputs": [
    {
     "data": {
      "text/plain": [
       "['x_train', 'y_train', 'x_val', 'y_val', 'x_test', 'y_test']"
      ]
     },
     "execution_count": 22,
     "metadata": {},
     "output_type": "execute_result"
    }
   ],
   "source": [
    "# TEST: Load features\n",
    "feature_sets = np.load(feature_sets_file)\n",
    "feature_sets.files"
   ]
  },
  {
   "cell_type": "code",
   "execution_count": 23,
   "metadata": {},
   "outputs": [
    {
     "data": {
      "text/plain": [
       "161"
      ]
     },
     "execution_count": 23,
     "metadata": {},
     "output_type": "execute_result"
    }
   ],
   "source": [
    "len(feature_sets['x_test'])"
   ]
  },
  {
   "cell_type": "code",
   "execution_count": 24,
   "metadata": {},
   "outputs": [
    {
     "name": "stdout",
     "output_type": "stream",
     "text": [
      "[1. 2. 2. 2. 1. 2. 2. 2. 2. 0. 2. 2. 0. 0. 0. 2. 2. 0. 2. 2. 1. 2. 2. 2.\n",
      " 2. 0. 0. 2. 2. 0. 2. 1. 2. 2. 2. 2. 2. 0. 2. 2. 1. 2. 2. 2. 2. 2. 2. 2.\n",
      " 0. 2. 2. 1. 2. 2. 2. 2. 2. 1. 2. 0. 2. 0. 2. 2. 2. 2. 2. 1. 2. 2. 0. 1.\n",
      " 2. 0. 1. 1. 2. 1. 2. 2. 2. 2. 2. 2. 2. 2. 2. 2. 2. 1. 0. 1. 1. 1. 1. 0.\n",
      " 2. 2. 2. 2. 2. 2. 1. 0. 2. 1. 1. 1. 0. 2. 0. 2. 1. 2. 1. 2. 2. 2. 1. 2.\n",
      " 2. 2. 2. 2. 1. 1. 2. 2. 2. 1. 2. 2. 2. 2. 2. 2. 1. 0. 0. 2. 2. 2. 1. 2.\n",
      " 2. 2. 2. 1. 0. 1. 2. 2. 2. 1. 0. 2. 2. 2. 1. 1. 0. 1. 1. 2. 2. 2. 2. 1.\n",
      " 1. 2. 2. 1. 2. 2. 2. 0. 0. 1. 2. 2. 0. 2. 2. 2. 0. 2. 2. 1. 2. 2. 2. 1.\n",
      " 1. 1. 2. 2. 1. 2. 0. 2. 2. 0. 2. 2. 2. 2. 1. 1. 2. 2. 2. 2. 2. 2. 2. 2.\n",
      " 2. 2. 2. 2. 2. 2. 2. 2. 2. 2. 0. 2. 2. 1. 1. 2. 2. 2. 2. 2. 1. 2. 0. 2.\n",
      " 0. 2. 2. 0. 2. 2. 2. 2. 2. 1. 2. 1. 2. 2. 2. 1. 2. 0. 2. 2. 2. 2. 2. 2.\n",
      " 2. 1. 1. 2. 2. 2. 1. 2. 2. 2. 2. 2. 2. 2. 2. 1. 0. 2. 2. 0. 2. 0. 2. 2.\n",
      " 2. 2. 0. 0. 2. 2. 1. 0. 2. 2. 0. 2. 2. 0. 2. 0. 2. 2. 2. 2. 2. 2. 2. 1.\n",
      " 2. 0. 2. 2. 2. 1. 2. 2. 2. 2. 2. 2. 1. 2. 2. 2. 2. 2. 2. 2. 2. 2. 2. 1.\n",
      " 2. 2. 2. 2. 1. 2. 1. 2. 0. 2. 2.]\n"
     ]
    }
   ],
   "source": [
    "print(feature_sets['y_val'])"
   ]
  },
  {
   "cell_type": "code",
   "execution_count": 25,
   "metadata": {},
   "outputs": [
    {
     "data": {
      "text/plain": [
       "347"
      ]
     },
     "execution_count": 25,
     "metadata": {},
     "output_type": "execute_result"
    }
   ],
   "source": [
    "len(feature_sets['y_val'])"
   ]
  },
  {
   "cell_type": "code",
   "execution_count": 26,
   "metadata": {},
   "outputs": [
    {
     "name": "stdout",
     "output_type": "stream",
     "text": [
      "[2. 1. 2. ... 2. 0. 1.]\n"
     ]
    }
   ],
   "source": [
    "print(feature_sets['y_train'])"
   ]
  },
  {
   "cell_type": "code",
   "execution_count": null,
   "metadata": {},
   "outputs": [],
   "source": []
  },
  {
   "cell_type": "code",
   "execution_count": null,
   "metadata": {},
   "outputs": [],
   "source": []
  },
  {
   "cell_type": "code",
   "execution_count": null,
   "metadata": {},
   "outputs": [],
   "source": []
  }
 ],
 "metadata": {
  "kernelspec": {
   "display_name": "Python 3 (ipykernel)",
   "language": "python",
   "name": "python3"
  },
  "language_info": {
   "codemirror_mode": {
    "name": "ipython",
    "version": 3
   },
   "file_extension": ".py",
   "mimetype": "text/x-python",
   "name": "python",
   "nbconvert_exporter": "python",
   "pygments_lexer": "ipython3",
   "version": "3.9.7"
  }
 },
 "nbformat": 4,
 "nbformat_minor": 2
}

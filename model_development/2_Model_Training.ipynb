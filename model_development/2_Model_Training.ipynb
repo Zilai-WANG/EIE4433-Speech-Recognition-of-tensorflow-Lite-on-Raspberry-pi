{
 "cells": [
  {
   "cell_type": "code",
   "execution_count": 35,
   "metadata": {},
   "outputs": [],
   "source": [
    "from os import listdir\n",
    "from os.path import isdir, join\n",
    "from tensorflow.keras import layers, models\n",
    "import numpy as np\n",
    "from tensorflow.keras.layers import  BatchNormalization\n",
    "from tensorflow.keras.layers import  ZeroPadding2D\n",
    "from tensorflow.keras.layers import GlobalMaxPooling2D\n",
    "from tensorflow.keras.layers import GlobalAveragePooling2D"
   ]
  },
  {
   "cell_type": "code",
   "execution_count": 36,
   "metadata": {},
   "outputs": [
    {
     "name": "stdout",
     "output_type": "stream",
     "text": [
      "['0_Scream', '1_Help_array', '2_other_classes']\n"
     ]
    }
   ],
   "source": [
    "# Create list of all targets \n",
    "dataset_path = 'C:\\\\Users\\\\19080\\\\Downloads\\\\Compressed\\\\fyp_data'\n",
    "all_targets = all_targets = [name for name in listdir(dataset_path) if isdir(join(dataset_path, name))]\n",
    "\n",
    "print(all_targets)"
   ]
  },
  {
   "cell_type": "code",
   "execution_count": 39,
   "metadata": {},
   "outputs": [],
   "source": [
    "# Settings\n",
    "feature_sets_path = 'C:\\\\Users\\\\19080\\\\Downloads\\\\FYP_C_desk\\\\IFYP_WANG_ZILAI'\n",
    "feature_sets_filename = 'all_targets_mfcc_sets.npz'\n",
    "model_filename = 'fyp_keras.h5'\n"
   ]
  },
  {
   "cell_type": "code",
   "execution_count": 40,
   "metadata": {},
   "outputs": [
    {
     "name": "stdout",
     "output_type": "stream",
     "text": [
      "['x_train', 'y_train', 'x_val', 'y_val', 'x_test', 'y_test']\n"
     ]
    }
   ],
   "source": [
    "# Load feature sets\n",
    "feature_sets = np.load(join(feature_sets_path, feature_sets_filename))\n",
    "print(feature_sets.files)"
   ]
  },
  {
   "cell_type": "code",
   "execution_count": 41,
   "metadata": {},
   "outputs": [],
   "source": [
    "# Assign feature sets\n",
    "x_train = feature_sets['x_train']\n",
    "y_train = feature_sets['y_train']\n",
    "x_val = feature_sets['x_val']\n",
    "y_val = feature_sets['y_val']\n",
    "x_test = feature_sets['x_test']\n",
    "y_test = feature_sets['y_test']"
   ]
  },
  {
   "cell_type": "code",
   "execution_count": 42,
   "metadata": {},
   "outputs": [
    {
     "name": "stdout",
     "output_type": "stream",
     "text": [
      "(1190, 16, 98)\n",
      "(347, 16, 98)\n",
      "(161, 16, 98)\n"
     ]
    }
   ],
   "source": [
    "# Look at tensor dimensions\n",
    "print(x_train.shape)\n",
    "print(x_val.shape)\n",
    "print(x_test.shape)"
   ]
  },
  {
   "cell_type": "code",
   "execution_count": 43,
   "metadata": {},
   "outputs": [
    {
     "name": "stdout",
     "output_type": "stream",
     "text": [
      "[1. 2. 2. 2. 1. 2. 2. 2. 2. 0. 2. 2. 0. 0. 0. 2. 2. 0. 2. 2. 1. 2. 2. 2.\n",
      " 2. 0. 0. 2. 2. 0. 2. 1. 2. 2. 2. 2. 2. 0. 2. 2. 1. 2. 2. 2. 2. 2. 2. 2.\n",
      " 0. 2. 2. 1. 2. 2. 2. 2. 2. 1. 2. 0. 2. 0. 2. 2. 2. 2. 2. 1. 2. 2. 0. 1.\n",
      " 2. 0. 1. 1. 2. 1. 2. 2. 2. 2. 2. 2. 2. 2. 2. 2. 2. 1. 0. 1. 1. 1. 1. 0.\n",
      " 2. 2. 2. 2. 2. 2. 1. 0. 2. 1. 1. 1. 0. 2. 0. 2. 1. 2. 1. 2. 2. 2. 1. 2.\n",
      " 2. 2. 2. 2. 1. 1. 2. 2. 2. 1. 2. 2. 2. 2. 2. 2. 1. 0. 0. 2. 2. 2. 1. 2.\n",
      " 2. 2. 2. 1. 0. 1. 2. 2. 2. 1. 0. 2. 2. 2. 1. 1. 0. 1. 1. 2. 2. 2. 2. 1.\n",
      " 1. 2. 2. 1. 2. 2. 2. 0. 0. 1. 2. 2. 0. 2. 2. 2. 0. 2. 2. 1. 2. 2. 2. 1.\n",
      " 1. 1. 2. 2. 1. 2. 0. 2. 2. 0. 2. 2. 2. 2. 1. 1. 2. 2. 2. 2. 2. 2. 2. 2.\n",
      " 2. 2. 2. 2. 2. 2. 2. 2. 2. 2. 0. 2. 2. 1. 1. 2. 2. 2. 2. 2. 1. 2. 0. 2.\n",
      " 0. 2. 2. 0. 2. 2. 2. 2. 2. 1. 2. 1. 2. 2. 2. 1. 2. 0. 2. 2. 2. 2. 2. 2.\n",
      " 2. 1. 1. 2. 2. 2. 1. 2. 2. 2. 2. 2. 2. 2. 2. 1. 0. 2. 2. 0. 2. 0. 2. 2.\n",
      " 2. 2. 0. 0. 2. 2. 1. 0. 2. 2. 0. 2. 2. 0. 2. 0. 2. 2. 2. 2. 2. 2. 2. 1.\n",
      " 2. 0. 2. 2. 2. 1. 2. 2. 2. 2. 2. 2. 1. 2. 2. 2. 2. 2. 2. 2. 2. 2. 2. 1.\n",
      " 2. 2. 2. 2. 1. 2. 1. 2. 0. 2. 2.]\n"
     ]
    }
   ],
   "source": [
    "# Peek at labels\n",
    "print(y_val)"
   ]
  },
  {
   "cell_type": "code",
   "execution_count": 44,
   "metadata": {},
   "outputs": [
    {
     "name": "stdout",
     "output_type": "stream",
     "text": [
      "[2. 1. 2. ... 2. 0. 1.]\n"
     ]
    }
   ],
   "source": [
    "print(y_train)"
   ]
  },
  {
   "cell_type": "code",
   "execution_count": null,
   "metadata": {},
   "outputs": [],
   "source": []
  },
  {
   "cell_type": "code",
   "execution_count": 47,
   "metadata": {},
   "outputs": [
    {
     "name": "stdout",
     "output_type": "stream",
     "text": [
      "[1. 2. 2. 2. 1. 2. 2. 2. 2. 0. 2. 2. 0. 0. 0. 2. 2. 0. 2. 2. 1. 2. 2. 2.\n",
      " 2. 0. 0. 2. 2. 0. 2. 1. 2. 2. 2. 2. 2. 0. 2. 2. 1. 2. 2. 2. 2. 2. 2. 2.\n",
      " 0. 2. 2. 1. 2. 2. 2. 2. 2. 1. 2. 0. 2. 0. 2. 2. 2. 2. 2. 1. 2. 2. 0. 1.\n",
      " 2. 0. 1. 1. 2. 1. 2. 2. 2. 2. 2. 2. 2. 2. 2. 2. 2. 1. 0. 1. 1. 1. 1. 0.\n",
      " 2. 2. 2. 2. 2. 2. 1. 0. 2. 1. 1. 1. 0. 2. 0. 2. 1. 2. 1. 2. 2. 2. 1. 2.\n",
      " 2. 2. 2. 2. 1. 1. 2. 2. 2. 1. 2. 2. 2. 2. 2. 2. 1. 0. 0. 2. 2. 2. 1. 2.\n",
      " 2. 2. 2. 1. 0. 1. 2. 2. 2. 1. 0. 2. 2. 2. 1. 1. 0. 1. 1. 2. 2. 2. 2. 1.\n",
      " 1. 2. 2. 1. 2. 2. 2. 0. 0. 1. 2. 2. 0. 2. 2. 2. 0. 2. 2. 1. 2. 2. 2. 1.\n",
      " 1. 1. 2. 2. 1. 2. 0. 2. 2. 0. 2. 2. 2. 2. 1. 1. 2. 2. 2. 2. 2. 2. 2. 2.\n",
      " 2. 2. 2. 2. 2. 2. 2. 2. 2. 2. 0. 2. 2. 1. 1. 2. 2. 2. 2. 2. 1. 2. 0. 2.\n",
      " 0. 2. 2. 0. 2. 2. 2. 2. 2. 1. 2. 1. 2. 2. 2. 1. 2. 0. 2. 2. 2. 2. 2. 2.\n",
      " 2. 1. 1. 2. 2. 2. 1. 2. 2. 2. 2. 2. 2. 2. 2. 1. 0. 2. 2. 0. 2. 0. 2. 2.\n",
      " 2. 2. 0. 0. 2. 2. 1. 0. 2. 2. 0. 2. 2. 0. 2. 0. 2. 2. 2. 2. 2. 2. 2. 1.\n",
      " 2. 0. 2. 2. 2. 1. 2. 2. 2. 2. 2. 2. 1. 2. 2. 2. 2. 2. 2. 2. 2. 2. 2. 1.\n",
      " 2. 2. 2. 2. 1. 2. 1. 2. 0. 2. 2.]\n"
     ]
    }
   ],
   "source": [
    "# Peek at labels after conversion\n",
    "print(y_val)"
   ]
  },
  {
   "cell_type": "code",
   "execution_count": 48,
   "metadata": {},
   "outputs": [
    {
     "name": "stdout",
     "output_type": "stream",
     "text": [
      "1.5504322766570606\n",
      "-0.5504322766570606\n"
     ]
    }
   ],
   "source": [
    "# What percentage of 'stop' appear in validation labels\n",
    "print(sum(y_val) / len(y_val))\n",
    "print(1 - sum(y_val) / len(y_val))"
   ]
  },
  {
   "cell_type": "code",
   "execution_count": 49,
   "metadata": {},
   "outputs": [
    {
     "name": "stdout",
     "output_type": "stream",
     "text": [
      "(1190, 16, 98)\n"
     ]
    }
   ],
   "source": [
    "# View the dimensions of our input data\n",
    "print(x_train.shape)"
   ]
  },
  {
   "cell_type": "code",
   "execution_count": 50,
   "metadata": {},
   "outputs": [
    {
     "name": "stdout",
     "output_type": "stream",
     "text": [
      "(1190, 16, 98, 1)\n",
      "(347, 16, 98, 1)\n",
      "(161, 16, 98, 1)\n"
     ]
    }
   ],
   "source": [
    "# CNN for TF expects (batch, height, width, channels)\n",
    "# So we reshape the input tensors with a \"color\" channel of 1\n",
    "x_train = x_train.reshape(x_train.shape[0], \n",
    "                          x_train.shape[1], \n",
    "                          x_train.shape[2], \n",
    "                          1)\n",
    "x_val = x_val.reshape(x_val.shape[0], \n",
    "                      x_val.shape[1], \n",
    "                      x_val.shape[2], \n",
    "                      1)\n",
    "x_test = x_test.reshape(x_test.shape[0], \n",
    "                        x_test.shape[1], \n",
    "                        x_test.shape[2], \n",
    "                        1)\n",
    "print(x_train.shape)\n",
    "print(x_val.shape)\n",
    "print(x_test.shape)"
   ]
  },
  {
   "cell_type": "code",
   "execution_count": 51,
   "metadata": {},
   "outputs": [
    {
     "name": "stdout",
     "output_type": "stream",
     "text": [
      "(16, 98, 1)\n"
     ]
    }
   ],
   "source": [
    "# Input shape for CNN is size of MFCC of 1 sample\n",
    "sample_shape = x_test.shape[1:]\n",
    "print(sample_shape)"
   ]
  },
  {
   "cell_type": "code",
   "execution_count": 52,
   "metadata": {},
   "outputs": [],
   "source": [
    "num_classes = 3"
   ]
  },
  {
   "cell_type": "code",
   "execution_count": 63,
   "metadata": {},
   "outputs": [],
   "source": [
    "\n",
    "\n",
    "# size of input is 16*98\n",
    "model = models.Sequential()\n",
    "model.add(ZeroPadding2D(padding=(2, 2), input_shape=sample_shape))\n",
    "model.add(layers.Conv2D(32, \n",
    "                        (5, 5), \n",
    "                        activation='relu',\n",
    "                        input_shape=sample_shape))\n",
    "model.add(BatchNormalization())\n",
    "model.add(layers.MaxPooling2D(pool_size=(2, 2)))\n",
    "\n",
    "model.add(layers.Conv2D(32, (3, 3), activation='relu'))\n",
    "model.add(BatchNormalization())\n",
    "model.add(layers.MaxPooling2D(pool_size=(2, 2)))\n",
    "\n",
    "model.add(layers.Conv2D(64, (2, 2), activation='relu'))\n",
    "model.add(BatchNormalization())\n",
    "model.add(layers.MaxPooling2D(pool_size=(2, 2)))\n",
    "\n",
    "# Classifier\n",
    "model.add(GlobalAveragePooling2D()) # statistical pooling\n",
    "model.add(layers.Flatten())\n",
    "model.add(layers.Dense(64, activation='relu'))\n",
    "model.add(layers.Dropout(0.5))\n",
    "model.add(layers.Dense(num_classes, activation='softmax'))\n"
   ]
  },
  {
   "cell_type": "code",
   "execution_count": 64,
   "metadata": {},
   "outputs": [
    {
     "name": "stdout",
     "output_type": "stream",
     "text": [
      "Model: \"sequential_2\"\n",
      "_________________________________________________________________\n",
      " Layer (type)                Output Shape              Param #   \n",
      "=================================================================\n",
      " zero_padding2d_2 (ZeroPaddi  (None, 20, 102, 1)       0         \n",
      " ng2D)                                                           \n",
      "                                                                 \n",
      " conv2d_6 (Conv2D)           (None, 16, 98, 32)        832       \n",
      "                                                                 \n",
      " batch_normalization_6 (Batc  (None, 16, 98, 32)       128       \n",
      " hNormalization)                                                 \n",
      "                                                                 \n",
      " max_pooling2d_6 (MaxPooling  (None, 8, 49, 32)        0         \n",
      " 2D)                                                             \n",
      "                                                                 \n",
      " conv2d_7 (Conv2D)           (None, 6, 47, 32)         9248      \n",
      "                                                                 \n",
      " batch_normalization_7 (Batc  (None, 6, 47, 32)        128       \n",
      " hNormalization)                                                 \n",
      "                                                                 \n",
      " max_pooling2d_7 (MaxPooling  (None, 3, 23, 32)        0         \n",
      " 2D)                                                             \n",
      "                                                                 \n",
      " conv2d_8 (Conv2D)           (None, 2, 22, 64)         8256      \n",
      "                                                                 \n",
      " batch_normalization_8 (Batc  (None, 2, 22, 64)        256       \n",
      " hNormalization)                                                 \n",
      "                                                                 \n",
      " max_pooling2d_8 (MaxPooling  (None, 1, 11, 64)        0         \n",
      " 2D)                                                             \n",
      "                                                                 \n",
      " global_average_pooling2d_2   (None, 64)               0         \n",
      " (GlobalAveragePooling2D)                                        \n",
      "                                                                 \n",
      " flatten_2 (Flatten)         (None, 64)                0         \n",
      "                                                                 \n",
      " dense_4 (Dense)             (None, 64)                4160      \n",
      "                                                                 \n",
      " dropout_2 (Dropout)         (None, 64)                0         \n",
      "                                                                 \n",
      " dense_5 (Dense)             (None, 3)                 195       \n",
      "                                                                 \n",
      "=================================================================\n",
      "Total params: 23,203\n",
      "Trainable params: 22,947\n",
      "Non-trainable params: 256\n",
      "_________________________________________________________________\n"
     ]
    }
   ],
   "source": [
    "# Display model\n",
    "model.summary()"
   ]
  },
  {
   "cell_type": "code",
   "execution_count": 65,
   "metadata": {},
   "outputs": [],
   "source": [
    "# # Add training parameters to model\n",
    "# model.compile(loss='binary_crossentropy', \n",
    "#               optimizer='rmsprop', \n",
    "#               metrics=['acc'])"
   ]
  },
  {
   "cell_type": "code",
   "execution_count": 66,
   "metadata": {},
   "outputs": [],
   "source": [
    "model.compile(loss='sparse_categorical_crossentropy',\n",
    "              optimizer='rmsprop',\n",
    "              metrics=['acc'])"
   ]
  },
  {
   "cell_type": "code",
   "execution_count": 67,
   "metadata": {},
   "outputs": [
    {
     "name": "stdout",
     "output_type": "stream",
     "text": [
      "Epoch 1/30\n",
      "75/75 [==============================] - 2s 14ms/step - loss: 0.5371 - acc: 0.7941 - val_loss: 0.8434 - val_acc: 0.6830\n",
      "Epoch 2/30\n",
      "75/75 [==============================] - 1s 13ms/step - loss: 0.2303 - acc: 0.9143 - val_loss: 0.9546 - val_acc: 0.6916\n",
      "Epoch 3/30\n",
      "75/75 [==============================] - 1s 13ms/step - loss: 0.1653 - acc: 0.9412 - val_loss: 0.5636 - val_acc: 0.7147\n",
      "Epoch 4/30\n",
      "75/75 [==============================] - 1s 13ms/step - loss: 0.1266 - acc: 0.9639 - val_loss: 0.0862 - val_acc: 0.9683\n",
      "Epoch 5/30\n",
      "75/75 [==============================] - 1s 14ms/step - loss: 0.1276 - acc: 0.9588 - val_loss: 0.4020 - val_acc: 0.9049\n",
      "Epoch 6/30\n",
      "75/75 [==============================] - 1s 14ms/step - loss: 0.1054 - acc: 0.9681 - val_loss: 0.3348 - val_acc: 0.8646\n",
      "Epoch 7/30\n",
      "75/75 [==============================] - 1s 14ms/step - loss: 0.0865 - acc: 0.9639 - val_loss: 0.1255 - val_acc: 0.9568\n",
      "Epoch 8/30\n",
      "75/75 [==============================] - 1s 14ms/step - loss: 0.0762 - acc: 0.9731 - val_loss: 0.4224 - val_acc: 0.9107\n",
      "Epoch 9/30\n",
      "75/75 [==============================] - 1s 13ms/step - loss: 0.0794 - acc: 0.9731 - val_loss: 0.0474 - val_acc: 0.9827\n",
      "Epoch 10/30\n",
      "75/75 [==============================] - 1s 13ms/step - loss: 0.0429 - acc: 0.9882 - val_loss: 0.0846 - val_acc: 0.9741\n",
      "Epoch 11/30\n",
      "75/75 [==============================] - 1s 13ms/step - loss: 0.0643 - acc: 0.9748 - val_loss: 0.1564 - val_acc: 0.9539\n",
      "Epoch 12/30\n",
      "75/75 [==============================] - 1s 13ms/step - loss: 0.0499 - acc: 0.9866 - val_loss: 0.2863 - val_acc: 0.9510\n",
      "Epoch 13/30\n",
      "75/75 [==============================] - 1s 13ms/step - loss: 0.0418 - acc: 0.9908 - val_loss: 0.1337 - val_acc: 0.9741\n",
      "Epoch 14/30\n",
      "75/75 [==============================] - 1s 13ms/step - loss: 0.0469 - acc: 0.9849 - val_loss: 0.0360 - val_acc: 0.9827\n",
      "Epoch 15/30\n",
      "75/75 [==============================] - 1s 13ms/step - loss: 0.0321 - acc: 0.9891 - val_loss: 0.1903 - val_acc: 0.9424\n",
      "Epoch 16/30\n",
      "75/75 [==============================] - 1s 13ms/step - loss: 0.0367 - acc: 0.9866 - val_loss: 0.1264 - val_acc: 0.9798\n",
      "Epoch 17/30\n",
      "75/75 [==============================] - 1s 13ms/step - loss: 0.0236 - acc: 0.9924 - val_loss: 0.0569 - val_acc: 0.9769\n",
      "Epoch 18/30\n",
      "75/75 [==============================] - 1s 13ms/step - loss: 0.0230 - acc: 0.9908 - val_loss: 0.1654 - val_acc: 0.9481\n",
      "Epoch 19/30\n",
      "75/75 [==============================] - 1s 13ms/step - loss: 0.0211 - acc: 0.9924 - val_loss: 0.0445 - val_acc: 0.9885\n",
      "Epoch 20/30\n",
      "75/75 [==============================] - 1s 13ms/step - loss: 0.0421 - acc: 0.9874 - val_loss: 0.1742 - val_acc: 0.9654\n",
      "Epoch 21/30\n",
      "75/75 [==============================] - 1s 13ms/step - loss: 0.0178 - acc: 0.9933 - val_loss: 0.1768 - val_acc: 0.9798\n",
      "Epoch 22/30\n",
      "75/75 [==============================] - 1s 13ms/step - loss: 0.0150 - acc: 0.9933 - val_loss: 0.0499 - val_acc: 0.9827\n",
      "Epoch 23/30\n",
      "75/75 [==============================] - 1s 14ms/step - loss: 0.0216 - acc: 0.9916 - val_loss: 0.1185 - val_acc: 0.9625\n",
      "Epoch 24/30\n",
      "75/75 [==============================] - 1s 14ms/step - loss: 0.0188 - acc: 0.9941 - val_loss: 0.1333 - val_acc: 0.9741\n",
      "Epoch 25/30\n",
      "75/75 [==============================] - 1s 14ms/step - loss: 0.0365 - acc: 0.9924 - val_loss: 0.1635 - val_acc: 0.9741\n",
      "Epoch 26/30\n",
      "75/75 [==============================] - 1s 13ms/step - loss: 0.0200 - acc: 0.9958 - val_loss: 0.0972 - val_acc: 0.9769\n",
      "Epoch 27/30\n",
      "75/75 [==============================] - 1s 14ms/step - loss: 0.0291 - acc: 0.9866 - val_loss: 0.1242 - val_acc: 0.9597\n",
      "Epoch 28/30\n",
      "75/75 [==============================] - 1s 13ms/step - loss: 0.0170 - acc: 0.9958 - val_loss: 0.0740 - val_acc: 0.9798\n",
      "Epoch 29/30\n",
      "75/75 [==============================] - 1s 13ms/step - loss: 0.0183 - acc: 0.9916 - val_loss: 0.1047 - val_acc: 0.9769\n",
      "Epoch 30/30\n",
      "75/75 [==============================] - 1s 13ms/step - loss: 0.0136 - acc: 0.9941 - val_loss: 0.1293 - val_acc: 0.9798\n"
     ]
    }
   ],
   "source": [
    "# Train\n",
    "history = model.fit(x_train, \n",
    "                    y_train, \n",
    "                    epochs=30, \n",
    "                    batch_size=16, # batch size\n",
    "                    validation_data=(x_val, y_val))"
   ]
  },
  {
   "cell_type": "code",
   "execution_count": 68,
   "metadata": {},
   "outputs": [
    {
     "data": {
      "image/png": "[encoded data removed]",
      "text/plain": [
       "<Figure size 432x288 with 1 Axes>"
      ]
     },
     "metadata": {
      "needs_background": "light"
     },
     "output_type": "display_data"
    },
    {
     "data": {
      "image/png": "[encoded data removed]",
      "text/plain": [
       "<Figure size 432x288 with 1 Axes>"
      ]
     },
     "metadata": {
      "needs_background": "light"
     },
     "output_type": "display_data"
    }
   ],
   "source": [
    "# Plot results\n",
    "import matplotlib.pyplot as plt\n",
    "\n",
    "acc = history.history['acc']\n",
    "val_acc = history.history['val_acc']\n",
    "loss = history.history['loss']\n",
    "val_loss = history.history['val_loss']\n",
    "\n",
    "epochs = range(1, len(acc) + 1)\n",
    "\n",
    "plt.plot(epochs, acc, 'bo', label='Training acc')\n",
    "plt.plot(epochs, val_acc, 'b', label='Test acc')\n",
    "plt.title('Training and Test accuracy')\n",
    "plt.legend()\n",
    "\n",
    "plt.figure()\n",
    "\n",
    "plt.plot(epochs, loss, 'bo', label='Training loss')\n",
    "plt.plot(epochs, val_loss, 'b', label='Test loss')\n",
    "plt.title('Training and Test loss')\n",
    "plt.legend()\n",
    "\n",
    "plt.show()"
   ]
  },
  {
   "cell_type": "code",
   "execution_count": 59,
   "metadata": {},
   "outputs": [],
   "source": [
    "# Save the model as a file\n",
    "models.save_model(model, model_filename)"
   ]
  },
  {
   "cell_type": "code",
   "execution_count": 60,
   "metadata": {},
   "outputs": [
    {
     "name": "stdout",
     "output_type": "stream",
     "text": [
      "1\n",
      "4\n",
      "6\n",
      "15\n",
      "17\n",
      "22\n",
      "29\n",
      "33\n",
      "47\n",
      "55\n",
      "56\n",
      "57\n",
      "63\n",
      "65\n",
      "69\n",
      "70\n",
      "79\n",
      "81\n",
      "83\n",
      "84\n",
      "85\n",
      "86\n",
      "87\n",
      "91\n",
      "109\n",
      "121\n",
      "132\n",
      "135\n",
      "137\n",
      "140\n",
      "141\n",
      "153\n",
      "155\n"
     ]
    }
   ],
   "source": [
    "# See which are 'stop'\n",
    "for idx, y in enumerate(y_test):\n",
    "    if y == 1:\n",
    "        print(idx)"
   ]
  },
  {
   "cell_type": "code",
   "execution_count": 61,
   "metadata": {},
   "outputs": [
    {
     "name": "stdout",
     "output_type": "stream",
     "text": [
      "1/1 [==============================] - 0s 68ms/step\n",
      "Answer: 2.0  Prediction: [[4.62381536e-07 1.00875015e-08 9.99999523e-01]]\n",
      "1/1 [==============================] - 0s 14ms/step\n",
      "Answer: 1.0  Prediction: [[4.5909044e-05 9.8656440e-01 1.3389721e-02]]\n",
      "1/1 [==============================] - 0s 13ms/step\n",
      "Answer: 2.0  Prediction: [[1.6162656e-14 1.2184068e-15 1.0000000e+00]]\n",
      "1/1 [==============================] - 0s 15ms/step\n",
      "Answer: 0.0  Prediction: [[9.9992394e-01 2.2887779e-12 7.6022181e-05]]\n",
      "1/1 [==============================] - 0s 15ms/step\n",
      "Answer: 2.0  Prediction: [[9.025998e-08 4.580039e-11 9.999999e-01]]\n",
      "1/1 [==============================] - 0s 14ms/step\n",
      "Answer: 2.0  Prediction: [[1.0555018e-11 3.8103438e-14 1.0000000e+00]]\n",
      "1/1 [==============================] - 0s 15ms/step\n",
      "Answer: 2.0  Prediction: [[2.090876e-15 9.640715e-22 1.000000e+00]]\n",
      "1/1 [==============================] - 0s 15ms/step\n",
      "Answer: 2.0  Prediction: [[8.160296e-09 9.798777e-14 1.000000e+00]]\n",
      "1/1 [==============================] - 0s 14ms/step\n",
      "Answer: 0.0  Prediction: [[1.0000000e+00 4.6487977e-17 1.6293751e-09]]\n",
      "1/1 [==============================] - 0s 14ms/step\n",
      "Answer: 1.0  Prediction: [[1.2036672e-09 9.9996793e-01 3.2098837e-05]]\n",
      "1/1 [==============================] - 0s 14ms/step\n",
      "Answer: 2.0  Prediction: [[1.8232837e-08 1.5064642e-11 1.0000000e+00]]\n",
      "1/1 [==============================] - 0s 14ms/step\n",
      "Answer: 2.0  Prediction: [[8.0929261e-05 1.2820522e-07 9.9991894e-01]]\n",
      "1/1 [==============================] - 0s 13ms/step\n",
      "Answer: 2.0  Prediction: [[6.2989544e-11 1.2886596e-12 1.0000000e+00]]\n",
      "1/1 [==============================] - 0s 14ms/step\n",
      "Answer: 1.0  Prediction: [[9.2205193e-12 1.0000000e+00 1.5795216e-09]]\n",
      "1/1 [==============================] - 0s 14ms/step\n",
      "Answer: 2.0  Prediction: [[1.0035812e-14 7.1813576e-16 1.0000000e+00]]\n",
      "1/1 [==============================] - 0s 14ms/step\n",
      "Answer: 2.0  Prediction: [[3.0751036e-19 1.4110827e-21 1.0000000e+00]]\n",
      "1/1 [==============================] - 0s 13ms/step\n",
      "Answer: 2.0  Prediction: [[8.133189e-11 5.590037e-14 1.000000e+00]]\n",
      "1/1 [==============================] - 0s 14ms/step\n",
      "Answer: 1.0  Prediction: [[1.6023554e-09 9.9475127e-01 5.2487990e-03]]\n",
      "1/1 [==============================] - 0s 15ms/step\n",
      "Answer: 2.0  Prediction: [[7.3982192e-06 4.1267180e-07 9.9999213e-01]]\n",
      "1/1 [==============================] - 0s 14ms/step\n",
      "Answer: 0.0  Prediction: [[9.999989e-01 2.459357e-10 1.095799e-06]]\n",
      "1/1 [==============================] - 0s 15ms/step\n",
      "Answer: 2.0  Prediction: [[2.0796214e-14 2.1284224e-18 1.0000000e+00]]\n",
      "1/1 [==============================] - 0s 14ms/step\n",
      "Answer: 2.0  Prediction: [[6.2846823e-08 5.5209264e-11 9.9999988e-01]]\n",
      "1/1 [==============================] - 0s 15ms/step\n",
      "Answer: 0.0  Prediction: [[9.9999237e-01 5.0310750e-10 7.5838775e-06]]\n",
      "1/1 [==============================] - 0s 13ms/step\n",
      "Answer: 2.0  Prediction: [[2.9294304e-19 4.7240812e-23 1.0000000e+00]]\n",
      "1/1 [==============================] - 0s 13ms/step\n",
      "Answer: 2.0  Prediction: [[1.0945520e-05 2.0190159e-08 9.9998903e-01]]\n",
      "1/1 [==============================] - 0s 14ms/step\n",
      "Answer: 1.0  Prediction: [[1.0545087e-06 9.9999654e-01 2.3359939e-06]]\n",
      "1/1 [==============================] - 0s 14ms/step\n",
      "Answer: 0.0  Prediction: [[9.9992216e-01 2.9765600e-13 7.7814089e-05]]\n",
      "1/1 [==============================] - 0s 15ms/step\n",
      "Answer: 1.0  Prediction: [[8.2098085e-11 1.0000000e+00 3.4686651e-09]]\n",
      "1/1 [==============================] - 0s 15ms/step\n",
      "Answer: 2.0  Prediction: [[6.9737290e-15 6.3558954e-18 1.0000000e+00]]\n",
      "1/1 [==============================] - 0s 15ms/step\n",
      "Answer: 1.0  Prediction: [[8.3040803e-11 1.0000000e+00 6.5140267e-09]]\n",
      "1/1 [==============================] - 0s 13ms/step\n",
      "Answer: 2.0  Prediction: [[1.3698811e-15 2.4312923e-17 1.0000000e+00]]\n",
      "1/1 [==============================] - 0s 15ms/step\n",
      "Answer: 1.0  Prediction: [[6.5777630e-13 1.0000000e+00 3.1672318e-09]]\n",
      "1/1 [==============================] - 0s 13ms/step\n",
      "Answer: 2.0  Prediction: [[1.9832772e-13 4.4343932e-16 1.0000000e+00]]\n",
      "1/1 [==============================] - 0s 14ms/step\n",
      "Answer: 0.0  Prediction: [[9.9993718e-01 1.7822054e-09 6.2784275e-05]]\n",
      "1/1 [==============================] - 0s 13ms/step\n",
      "Answer: 0.0  Prediction: [[9.9999917e-01 3.7322280e-13 8.3579579e-07]]\n",
      "1/1 [==============================] - 0s 14ms/step\n",
      "Answer: 2.0  Prediction: [[8.788959e-15 8.201082e-17 1.000000e+00]]\n",
      "1/1 [==============================] - 0s 14ms/step\n",
      "Answer: 1.0  Prediction: [[6.8057761e-11 9.9998772e-01 1.2266735e-05]]\n",
      "1/1 [==============================] - 0s 15ms/step\n",
      "Answer: 2.0  Prediction: [[2.5875891e-06 4.3108177e-11 9.9999738e-01]]\n",
      "1/1 [==============================] - 0s 14ms/step\n",
      "Answer: 0.0  Prediction: [[9.9999928e-01 5.3934447e-14 7.7048838e-07]]\n",
      "1/1 [==============================] - 0s 14ms/step\n",
      "Answer: 2.0  Prediction: [[3.21043431e-12 1.18000685e-14 1.00000000e+00]]\n",
      "1/1 [==============================] - 0s 15ms/step\n",
      "Answer: 2.0  Prediction: [[7.7408026e-07 2.1748283e-08 9.9999917e-01]]\n",
      "1/1 [==============================] - 0s 13ms/step\n",
      "Answer: 2.0  Prediction: [[7.6458940e-14 5.1422625e-15 1.0000000e+00]]\n",
      "1/1 [==============================] - 0s 14ms/step\n",
      "Answer: 2.0  Prediction: [[2.0277602e-08 4.8819032e-11 1.0000000e+00]]\n",
      "1/1 [==============================] - 0s 14ms/step\n",
      "Answer: 2.0  Prediction: [[1.9114775e-06 5.3331228e-11 9.9999809e-01]]\n",
      "1/1 [==============================] - 0s 14ms/step\n",
      "Answer: 2.0  Prediction: [[4.2219406e-10 9.6920415e-15 1.0000000e+00]]\n",
      "1/1 [==============================] - 0s 14ms/step\n",
      "Answer: 2.0  Prediction: [[5.3392096e-06 1.3724469e-08 9.9999464e-01]]\n",
      "1/1 [==============================] - 0s 13ms/step\n",
      "Answer: 2.0  Prediction: [[2.1741093e-11 1.1038215e-14 1.0000000e+00]]\n",
      "1/1 [==============================] - 0s 13ms/step\n",
      "Answer: 2.0  Prediction: [[1.6037774e-09 5.8401397e-16 1.0000000e+00]]\n",
      "1/1 [==============================] - 0s 16ms/step\n",
      "Answer: 2.0  Prediction: [[9.1561807e-09 5.0646137e-12 1.0000000e+00]]\n",
      "1/1 [==============================] - 0s 15ms/step\n",
      "Answer: 2.0  Prediction: [[1.7957252e-08 1.2514631e-12 1.0000000e+00]]\n",
      "1/1 [==============================] - 0s 14ms/step\n",
      "Answer: 0.0  Prediction: [[9.9999988e-01 1.5784550e-17 1.7027585e-07]]\n",
      "1/1 [==============================] - 0s 16ms/step\n",
      "Answer: 2.0  Prediction: [[2.6120455e-13 3.2032453e-17 1.0000000e+00]]\n",
      "1/1 [==============================] - 0s 14ms/step\n",
      "Answer: 0.0  Prediction: [[9.2387199e-01 9.3853064e-11 7.6127984e-02]]\n",
      "1/1 [==============================] - 0s 15ms/step\n",
      "Answer: 1.0  Prediction: [[7.1134996e-09 9.9999714e-01 2.8146355e-06]]\n",
      "1/1 [==============================] - 0s 14ms/step\n",
      "Answer: 2.0  Prediction: [[1.5851183e-15 1.6174852e-16 1.0000000e+00]]\n",
      "1/1 [==============================] - 0s 13ms/step\n",
      "Answer: 1.0  Prediction: [[1.8493945e-09 9.9999857e-01 1.4056625e-06]]\n",
      "1/1 [==============================] - 0s 14ms/step\n",
      "Answer: 2.0  Prediction: [[8.5502063e-07 2.3097448e-10 9.9999917e-01]]\n",
      "1/1 [==============================] - 0s 13ms/step\n",
      "Answer: 2.0  Prediction: [[1.5094719e-05 1.9198504e-10 9.9998486e-01]]\n",
      "1/1 [==============================] - 0s 14ms/step\n",
      "Answer: 2.0  Prediction: [[6.1222742e-11 2.0032214e-13 1.0000000e+00]]\n",
      "1/1 [==============================] - 0s 13ms/step\n",
      "Answer: 1.0  Prediction: [[2.3626237e-09 9.9999797e-01 2.0275918e-06]]\n",
      "1/1 [==============================] - 0s 14ms/step\n",
      "Answer: 0.0  Prediction: [[1.0000000e+00 3.1073563e-18 3.2767218e-12]]\n",
      "1/1 [==============================] - 0s 14ms/step\n",
      "Answer: 2.0  Prediction: [[7.563661e-19 1.919650e-20 1.000000e+00]]\n",
      "1/1 [==============================] - 0s 15ms/step\n",
      "Answer: 0.0  Prediction: [[9.9813485e-01 1.1354105e-10 1.8651303e-03]]\n",
      "1/1 [==============================] - 0s 13ms/step\n",
      "Answer: 2.0  Prediction: [[1.3928612e-07 1.0080681e-11 9.9999988e-01]]\n",
      "1/1 [==============================] - 0s 15ms/step\n",
      "Answer: 2.0  Prediction: [[1.3732410e-10 1.1970705e-13 1.0000000e+00]]\n",
      "1/1 [==============================] - 0s 15ms/step\n",
      "Answer: 1.0  Prediction: [[3.1394642e-08 9.9999988e-01 1.6134068e-07]]\n",
      "1/1 [==============================] - 0s 15ms/step\n",
      "Answer: 1.0  Prediction: [[9.2161834e-09 9.6045071e-01 3.9549265e-02]]\n"
     ]
    },
    {
     "name": "stdout",
     "output_type": "stream",
     "text": [
      "1/1 [==============================] - 0s 15ms/step\n",
      "Answer: 2.0  Prediction: [[2.1143402e-08 5.9451644e-10 1.0000000e+00]]\n",
      "1/1 [==============================] - 0s 14ms/step\n",
      "Answer: 2.0  Prediction: [[4.0538090e-10 4.0408625e-14 1.0000000e+00]]\n",
      "1/1 [==============================] - 0s 14ms/step\n",
      "Answer: 2.0  Prediction: [[3.9375128e-13 1.3278545e-17 1.0000000e+00]]\n",
      "1/1 [==============================] - 0s 18ms/step\n",
      "Answer: 0.0  Prediction: [[9.9999142e-01 7.5232355e-16 8.6249493e-06]]\n",
      "1/1 [==============================] - 0s 16ms/step\n",
      "Answer: 2.0  Prediction: [[1.0412562e-08 2.4674589e-11 1.0000000e+00]]\n",
      "1/1 [==============================] - 0s 15ms/step\n",
      "Answer: 1.0  Prediction: [[2.2066413e-11 1.0000000e+00 1.8277824e-08]]\n",
      "1/1 [==============================] - 0s 14ms/step\n",
      "Answer: 0.0  Prediction: [[9.3716961e-01 3.3925327e-09 6.2830381e-02]]\n",
      "1/1 [==============================] - 0s 14ms/step\n",
      "Answer: 1.0  Prediction: [[4.2769704e-10 9.9999535e-01 4.6905789e-06]]\n",
      "1/1 [==============================] - 0s 18ms/step\n",
      "Answer: 1.0  Prediction: [[4.3110058e-13 1.0000000e+00 2.0554454e-09]]\n",
      "1/1 [==============================] - 0s 15ms/step\n",
      "Answer: 0.0  Prediction: [[9.9997628e-01 4.9892346e-10 2.3742479e-05]]\n",
      "1/1 [==============================] - 0s 14ms/step\n",
      "Answer: 2.0  Prediction: [[9.1733052e-14 1.6553487e-14 1.0000000e+00]]\n",
      "1/1 [==============================] - 0s 15ms/step\n",
      "Answer: 2.0  Prediction: [[3.3430626e-13 4.2212631e-18 1.0000000e+00]]\n",
      "1/1 [==============================] - 0s 15ms/step\n",
      "Answer: 2.0  Prediction: [[3.1576725e-12 8.9828712e-16 1.0000000e+00]]\n",
      "1/1 [==============================] - 0s 14ms/step\n",
      "Answer: 0.0  Prediction: [[9.9999642e-01 2.7379311e-11 3.5280764e-06]]\n",
      "1/1 [==============================] - 0s 15ms/step\n",
      "Answer: 0.0  Prediction: [[1.0000000e+00 3.7824498e-15 1.9753392e-08]]\n",
      "1/1 [==============================] - 0s 15ms/step\n",
      "Answer: 2.0  Prediction: [[1.9084698e-14 2.0445203e-17 1.0000000e+00]]\n",
      "1/1 [==============================] - 0s 14ms/step\n",
      "Answer: 2.0  Prediction: [[6.0160588e-10 3.5990664e-14 1.0000000e+00]]\n",
      "1/1 [==============================] - 0s 15ms/step\n",
      "Answer: 1.0  Prediction: [[6.3478459e-12 1.0000000e+00 4.9579576e-08]]\n",
      "1/1 [==============================] - 0s 15ms/step\n",
      "Answer: 2.0  Prediction: [[3.7294615e-10 3.0068374e-12 1.0000000e+00]]\n",
      "1/1 [==============================] - 0s 14ms/step\n",
      "Answer: 1.0  Prediction: [[6.6538025e-11 9.9999905e-01 9.0723728e-07]]\n",
      "1/1 [==============================] - 0s 15ms/step\n",
      "Answer: 0.0  Prediction: [[9.9985313e-01 2.2401318e-17 1.4686491e-04]]\n",
      "1/1 [==============================] - 0s 14ms/step\n",
      "Answer: 0.0  Prediction: [[1.0000000e+00 5.1530795e-16 8.1421998e-09]]\n",
      "1/1 [==============================] - 0s 14ms/step\n",
      "Answer: 2.0  Prediction: [[5.5202274e-09 2.0136267e-12 1.0000000e+00]]\n",
      "1/1 [==============================] - 0s 14ms/step\n",
      "Answer: 1.0  Prediction: [[5.5825251e-14 1.0000000e+00 7.7448953e-10]]\n",
      "1/1 [==============================] - 0s 15ms/step\n",
      "Answer: 2.0  Prediction: [[6.5616834e-10 7.6661625e-14 1.0000000e+00]]\n",
      "1/1 [==============================] - 0s 15ms/step\n",
      "Answer: 2.0  Prediction: [[9.3447369e-08 2.2398316e-14 9.9999988e-01]]\n",
      "1/1 [==============================] - 0s 14ms/step\n",
      "Answer: 2.0  Prediction: [[5.7921294e-08 3.5656886e-10 1.0000000e+00]]\n",
      "1/1 [==============================] - 0s 14ms/step\n",
      "Answer: 2.0  Prediction: [[1.3987554e-11 1.3126662e-15 1.0000000e+00]]\n",
      "1/1 [==============================] - 0s 14ms/step\n",
      "Answer: 0.0  Prediction: [[9.9955112e-01 6.4900182e-11 4.4881823e-04]]\n",
      "1/1 [==============================] - 0s 15ms/step\n",
      "Answer: 2.0  Prediction: [[1.9049950e-12 3.3442406e-14 1.0000000e+00]]\n",
      "1/1 [==============================] - 0s 14ms/step\n",
      "Answer: 2.0  Prediction: [[1.4124800e-05 1.7763320e-10 9.9998593e-01]]\n",
      "1/1 [==============================] - 0s 16ms/step\n",
      "Answer: 2.0  Prediction: [[1.8009968e-16 4.4395025e-17 1.0000000e+00]]\n",
      "1/1 [==============================] - 0s 14ms/step\n",
      "Answer: 0.0  Prediction: [[9.9999738e-01 1.5111684e-11 2.5770141e-06]]\n"
     ]
    }
   ],
   "source": [
    "# TEST: Load model and run it against test set\n",
    "model = models.load_model(model_filename)\n",
    "#for i in range(100, 110):\n",
    "for i in range(0, 100):\n",
    "    print('Answer:', y_train[i], ' Prediction:', model.predict(np.expand_dims(x_train[i], 0)))"
   ]
  },
  {
   "cell_type": "code",
   "execution_count": 62,
   "metadata": {},
   "outputs": [
    {
     "name": "stdout",
     "output_type": "stream",
     "text": [
      "1/1 [==============================] - 0s 73ms/step\n",
      "1/1 [==============================] - 0s 14ms/step\n",
      "1/1 [==============================] - 0s 14ms/step\n",
      "1/1 [==============================] - 0s 14ms/step\n",
      "1/1 [==============================] - 0s 13ms/step\n",
      "1/1 [==============================] - 0s 14ms/step\n",
      "1/1 [==============================] - 0s 14ms/step\n",
      "1/1 [==============================] - 0s 15ms/step\n",
      "1/1 [==============================] - 0s 13ms/step\n",
      "1/1 [==============================] - 0s 14ms/step\n",
      "1/1 [==============================] - 0s 13ms/step\n",
      "1/1 [==============================] - 0s 14ms/step\n",
      "1/1 [==============================] - 0s 15ms/step\n",
      "1/1 [==============================] - 0s 14ms/step\n",
      "1/1 [==============================] - 0s 13ms/step\n",
      "1/1 [==============================] - 0s 15ms/step\n",
      "1/1 [==============================] - 0s 13ms/step\n",
      "1/1 [==============================] - 0s 13ms/step\n",
      "1/1 [==============================] - 0s 13ms/step\n",
      "1/1 [==============================] - 0s 13ms/step\n",
      "1/1 [==============================] - 0s 13ms/step\n",
      "1/1 [==============================] - 0s 13ms/step\n",
      "1/1 [==============================] - 0s 13ms/step\n",
      "1/1 [==============================] - 0s 13ms/step\n",
      "1/1 [==============================] - 0s 14ms/step\n",
      "1/1 [==============================] - 0s 13ms/step\n",
      "1/1 [==============================] - 0s 13ms/step\n",
      "1/1 [==============================] - 0s 16ms/step\n",
      "1/1 [==============================] - 0s 17ms/step\n",
      "1/1 [==============================] - 0s 17ms/step\n",
      "1/1 [==============================] - 0s 14ms/step\n",
      "1/1 [==============================] - 0s 13ms/step\n",
      "1/1 [==============================] - 0s 14ms/step\n",
      "1/1 [==============================] - 0s 14ms/step\n",
      "1/1 [==============================] - 0s 16ms/step\n",
      "1/1 [==============================] - 0s 15ms/step\n",
      "1/1 [==============================] - 0s 14ms/step\n",
      "1/1 [==============================] - 0s 16ms/step\n",
      "1/1 [==============================] - 0s 15ms/step\n",
      "not match, top index is:  0.0  and label is:  2.0\n",
      "1/1 [==============================] - 0s 16ms/step\n",
      "not match, top index is:  2.0  and label is:  0.0\n",
      "1/1 [==============================] - 0s 15ms/step\n",
      "1/1 [==============================] - 0s 15ms/step\n",
      "1/1 [==============================] - 0s 15ms/step\n",
      "1/1 [==============================] - 0s 16ms/step\n",
      "1/1 [==============================] - 0s 15ms/step\n",
      "1/1 [==============================] - 0s 14ms/step\n",
      "1/1 [==============================] - 0s 14ms/step\n",
      "1/1 [==============================] - 0s 14ms/step\n",
      "1/1 [==============================] - 0s 14ms/step\n",
      "1/1 [==============================] - 0s 14ms/step\n",
      "1/1 [==============================] - 0s 14ms/step\n",
      "1/1 [==============================] - 0s 14ms/step\n",
      "1/1 [==============================] - 0s 14ms/step\n",
      "1/1 [==============================] - 0s 14ms/step\n",
      "1/1 [==============================] - 0s 14ms/step\n",
      "1/1 [==============================] - 0s 13ms/step\n",
      "1/1 [==============================] - 0s 15ms/step\n",
      "1/1 [==============================] - 0s 14ms/step\n",
      "1/1 [==============================] - 0s 15ms/step\n",
      "1/1 [==============================] - 0s 13ms/step\n",
      "1/1 [==============================] - 0s 14ms/step\n",
      "1/1 [==============================] - 0s 14ms/step\n",
      "1/1 [==============================] - 0s 14ms/step\n",
      "1/1 [==============================] - 0s 14ms/step\n",
      "1/1 [==============================] - 0s 13ms/step\n",
      "1/1 [==============================] - 0s 15ms/step\n",
      "1/1 [==============================] - 0s 13ms/step\n",
      "1/1 [==============================] - 0s 14ms/step\n",
      "1/1 [==============================] - 0s 14ms/step\n",
      "1/1 [==============================] - 0s 14ms/step\n",
      "1/1 [==============================] - 0s 14ms/step\n",
      "1/1 [==============================] - 0s 14ms/step\n",
      "1/1 [==============================] - 0s 14ms/step\n",
      "1/1 [==============================] - 0s 14ms/step\n",
      "1/1 [==============================] - 0s 13ms/step\n",
      "1/1 [==============================] - 0s 14ms/step\n",
      "1/1 [==============================] - 0s 14ms/step\n",
      "1/1 [==============================] - 0s 14ms/step\n",
      "1/1 [==============================] - 0s 14ms/step\n",
      "1/1 [==============================] - 0s 14ms/step\n",
      "1/1 [==============================] - 0s 13ms/step\n",
      "1/1 [==============================] - 0s 15ms/step\n",
      "1/1 [==============================] - 0s 13ms/step\n",
      "1/1 [==============================] - 0s 14ms/step\n",
      "1/1 [==============================] - 0s 14ms/step\n",
      "1/1 [==============================] - 0s 14ms/step\n",
      "1/1 [==============================] - 0s 14ms/step\n",
      "1/1 [==============================] - 0s 14ms/step\n",
      "1/1 [==============================] - 0s 14ms/step\n",
      "1/1 [==============================] - 0s 13ms/step\n",
      "1/1 [==============================] - 0s 14ms/step\n",
      "1/1 [==============================] - 0s 14ms/step\n",
      "1/1 [==============================] - 0s 14ms/step\n",
      "1/1 [==============================] - 0s 13ms/step\n",
      "1/1 [==============================] - 0s 14ms/step\n",
      "1/1 [==============================] - 0s 14ms/step\n",
      "1/1 [==============================] - 0s 13ms/step\n",
      "1/1 [==============================] - 0s 14ms/step\n",
      "1/1 [==============================] - 0s 13ms/step\n",
      "1/1 [==============================] - 0s 14ms/step\n",
      "1/1 [==============================] - 0s 14ms/step\n",
      "1/1 [==============================] - 0s 14ms/step\n",
      "1/1 [==============================] - 0s 14ms/step\n",
      "1/1 [==============================] - 0s 14ms/step\n",
      "1/1 [==============================] - 0s 13ms/step\n",
      "1/1 [==============================] - 0s 14ms/step\n",
      "1/1 [==============================] - 0s 13ms/step\n",
      "1/1 [==============================] - 0s 15ms/step\n",
      "1/1 [==============================] - 0s 15ms/step\n",
      "1/1 [==============================] - 0s 14ms/step\n",
      "1/1 [==============================] - 0s 15ms/step\n",
      "1/1 [==============================] - 0s 14ms/step\n",
      "1/1 [==============================] - 0s 14ms/step\n",
      "not match, top index is:  2.0  and label is:  0.0\n",
      "1/1 [==============================] - 0s 14ms/step\n",
      "1/1 [==============================] - 0s 14ms/step\n",
      "1/1 [==============================] - 0s 15ms/step\n",
      "1/1 [==============================] - 0s 15ms/step\n",
      "1/1 [==============================] - 0s 13ms/step\n",
      "1/1 [==============================] - 0s 12ms/step\n",
      "1/1 [==============================] - 0s 13ms/step\n",
      "1/1 [==============================] - 0s 13ms/step\n",
      "1/1 [==============================] - 0s 13ms/step\n",
      "1/1 [==============================] - 0s 13ms/step\n",
      "1/1 [==============================] - 0s 14ms/step\n",
      "1/1 [==============================] - 0s 13ms/step\n",
      "not match, top index is:  2.0  and label is:  0.0\n",
      "1/1 [==============================] - 0s 13ms/step\n",
      "1/1 [==============================] - 0s 13ms/step\n",
      "1/1 [==============================] - 0s 15ms/step\n",
      "1/1 [==============================] - 0s 13ms/step\n",
      "1/1 [==============================] - 0s 13ms/step\n",
      "not match, top index is:  2.0  and label is:  0.0\n",
      "1/1 [==============================] - 0s 13ms/step\n",
      "1/1 [==============================] - 0s 13ms/step\n",
      "1/1 [==============================] - 0s 13ms/step\n",
      "1/1 [==============================] - 0s 13ms/step\n",
      "1/1 [==============================] - 0s 13ms/step\n",
      "1/1 [==============================] - 0s 13ms/step\n",
      "1/1 [==============================] - 0s 13ms/step\n",
      "1/1 [==============================] - 0s 13ms/step\n",
      "1/1 [==============================] - 0s 13ms/step\n",
      "1/1 [==============================] - 0s 13ms/step\n",
      "1/1 [==============================] - 0s 13ms/step\n",
      "1/1 [==============================] - 0s 14ms/step\n",
      "1/1 [==============================] - 0s 13ms/step\n",
      "1/1 [==============================] - 0s 13ms/step\n",
      "1/1 [==============================] - 0s 13ms/step\n",
      "1/1 [==============================] - 0s 13ms/step\n",
      "1/1 [==============================] - 0s 14ms/step\n",
      "not match, top index is:  0.0  and label is:  2.0\n",
      "1/1 [==============================] - 0s 14ms/step\n",
      "1/1 [==============================] - 0s 13ms/step\n",
      "1/1 [==============================] - 0s 14ms/step\n",
      "1/1 [==============================] - 0s 13ms/step\n"
     ]
    },
    {
     "name": "stdout",
     "output_type": "stream",
     "text": [
      "1/1 [==============================] - 0s 13ms/step\n",
      "1/1 [==============================] - 0s 13ms/step\n",
      "1/1 [==============================] - 0s 13ms/step\n",
      "1/1 [==============================] - 0s 13ms/step\n",
      "1/1 [==============================] - 0s 13ms/step\n",
      "1/1 [==============================] - 0s 13ms/step\n",
      "1/1 [==============================] - 0s 13ms/step\n",
      "1/1 [==============================] - 0s 13ms/step\n",
      "1/1 [==============================] - 0s 13ms/step\n",
      "1/1 [==============================] - 0s 13ms/step\n"
     ]
    },
    {
     "ename": "IndexError",
     "evalue": "index 161 is out of bounds for axis 0 with size 161",
     "output_type": "error",
     "traceback": [
      "\u001b[1;31m---------------------------------------------------------------------------\u001b[0m",
      "\u001b[1;31mIndexError\u001b[0m                                Traceback (most recent call last)",
      "\u001b[1;32m~\\AppData\\Local\\Temp/ipykernel_8152/3984510691.py\u001b[0m in \u001b[0;36m<module>\u001b[1;34m\u001b[0m\n\u001b[0;32m     16\u001b[0m \u001b[0mlen_222\u001b[0m \u001b[1;33m=\u001b[0m \u001b[1;36m0\u001b[0m\u001b[1;33m\u001b[0m\u001b[1;33m\u001b[0m\u001b[0m\n\u001b[0;32m     17\u001b[0m \u001b[1;32mfor\u001b[0m \u001b[0mi\u001b[0m \u001b[1;32min\u001b[0m \u001b[0mrange\u001b[0m\u001b[1;33m(\u001b[0m\u001b[1;36m0\u001b[0m\u001b[1;33m,\u001b[0m \u001b[1;36m200\u001b[0m\u001b[1;33m)\u001b[0m\u001b[1;33m:\u001b[0m\u001b[1;33m\u001b[0m\u001b[1;33m\u001b[0m\u001b[0m\n\u001b[1;32m---> 18\u001b[1;33m     \u001b[0moutput_data\u001b[0m \u001b[1;33m=\u001b[0m \u001b[0mmodel\u001b[0m\u001b[1;33m.\u001b[0m\u001b[0mpredict\u001b[0m\u001b[1;33m(\u001b[0m\u001b[0mnp\u001b[0m\u001b[1;33m.\u001b[0m\u001b[0mexpand_dims\u001b[0m\u001b[1;33m(\u001b[0m\u001b[0mx_test\u001b[0m\u001b[1;33m[\u001b[0m\u001b[0mi\u001b[0m\u001b[1;33m]\u001b[0m\u001b[1;33m,\u001b[0m \u001b[1;36m0\u001b[0m\u001b[1;33m)\u001b[0m\u001b[1;33m)\u001b[0m\u001b[1;33m\u001b[0m\u001b[1;33m\u001b[0m\u001b[0m\n\u001b[0m\u001b[0;32m     19\u001b[0m     \u001b[0mtop_index\u001b[0m \u001b[1;33m=\u001b[0m \u001b[0mfloat\u001b[0m\u001b[1;33m(\u001b[0m\u001b[0mnp\u001b[0m\u001b[1;33m.\u001b[0m\u001b[0margmax\u001b[0m\u001b[1;33m(\u001b[0m\u001b[0moutput_data\u001b[0m\u001b[1;33m)\u001b[0m\u001b[1;33m)\u001b[0m\u001b[1;33m\u001b[0m\u001b[1;33m\u001b[0m\u001b[0m\n\u001b[0;32m     20\u001b[0m     \u001b[1;32mif\u001b[0m\u001b[1;33m(\u001b[0m\u001b[0my_test\u001b[0m\u001b[1;33m[\u001b[0m\u001b[0mi\u001b[0m\u001b[1;33m]\u001b[0m\u001b[1;33m.\u001b[0m\u001b[0mitem\u001b[0m\u001b[1;33m(\u001b[0m\u001b[1;33m)\u001b[0m\u001b[1;33m==\u001b[0m\u001b[1;36m0.0\u001b[0m\u001b[1;33m)\u001b[0m\u001b[1;33m:\u001b[0m\u001b[1;33m\u001b[0m\u001b[1;33m\u001b[0m\u001b[0m\n",
      "\u001b[1;31mIndexError\u001b[0m: index 161 is out of bounds for axis 0 with size 161"
     ]
    }
   ],
   "source": [
    "# Valdation: calculate the True Positve & Negative  \n",
    "model = models.load_model(model_filename)\n",
    "#for i in range(100, 110):\n",
    "len_0 = 0\n",
    "len_1 = 0\n",
    "len_2 = 0\n",
    "len_3 = 0\n",
    "\n",
    "len_00 = 0\n",
    "len_11 = 0\n",
    "len_22 = 0\n",
    "\n",
    "\n",
    "len_000 = 0\n",
    "len_111 = 0\n",
    "len_222 = 0\n",
    "for i in range(0, 200):\n",
    "    output_data = model.predict(np.expand_dims(x_test[i], 0))\n",
    "    top_index = float(np.argmax(output_data))\n",
    "    if(y_test[i].item()==0.0):\n",
    "        len_0 = len_0+1\n",
    "    elif(y_test[i].item()==1.0):\n",
    "        len_1 = len_1+1\n",
    "    elif(y_test[i].item()==2.0):\n",
    "        len_2 = len_2+1\n",
    "    else:\n",
    "        len_3 = len_3+1\n",
    "    #print(top_index)\n",
    "    #print(y_val[i].item())\n",
    "    if((top_index != y_test[i].item())):\n",
    "        print(\"not match, top index is: \",top_index,\" and label is: \", y_test[i])\n",
    "        if(top_index ==0.0):\n",
    "            len_00 = len_00+1\n",
    "        elif(top_index ==1.0):\n",
    "            len_11 = len_11+1\n",
    "        elif(top_index ==2.0):\n",
    "            len_22 = len_22+1\n",
    "        if(y_test[i].item() ==0.0):\n",
    "            len_000 = len_000+1\n",
    "        elif(y_test[i].item() ==1.0):\n",
    "            len_111 = len_111+1\n",
    "        elif(y_test[i].item() ==2.0):\n",
    "            len_222 = len_222+1\n",
    "\n",
    "print(len_0)\n",
    "print(len_1)\n",
    "print(len_2)\n",
    "print(len_3)\n",
    "print(len_00)\n",
    "print(len_11)\n",
    "print(len_22)\n",
    "print(len_000)\n",
    "print(len_111)\n",
    "print(len_222)\n",
    "       "
   ]
  },
  {
   "cell_type": "code",
   "execution_count": null,
   "metadata": {},
   "outputs": [],
   "source": [
    "model.evaluate(x=x_val, y=y_val)"
   ]
  },
  {
   "cell_type": "code",
   "execution_count": null,
   "metadata": {},
   "outputs": [],
   "source": [
    "# Evaluate model with test set\n",
    "model.evaluate(x=x_test, y=y_test)"
   ]
  },
  {
   "cell_type": "code",
   "execution_count": null,
   "metadata": {},
   "outputs": [],
   "source": []
  },
  {
   "cell_type": "code",
   "execution_count": null,
   "metadata": {},
   "outputs": [],
   "source": []
  },
  {
   "cell_type": "code",
   "execution_count": null,
   "metadata": {},
   "outputs": [],
   "source": []
  }
 ],
 "metadata": {
  "kernelspec": {
   "display_name": "Python 3 (ipykernel)",
   "language": "python",
   "name": "python3"
  },
  "language_info": {
   "codemirror_mode": {
    "name": "ipython",
    "version": 3
   },
   "file_extension": ".py",
   "mimetype": "text/x-python",
   "name": "python",
   "nbconvert_exporter": "python",
   "pygments_lexer": "ipython3",
   "version": "3.9.7"
  }
 },
 "nbformat": 4,
 "nbformat_minor": 2
}
